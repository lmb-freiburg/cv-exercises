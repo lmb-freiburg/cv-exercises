{
 "cells": [
  {
   "cell_type": "markdown",
   "id": "865d6937",
   "metadata": {},
   "source": [
    "# Diffusion example\n",
    "\n",
    "Setup: Install the image library [pillow](https://pillow.readthedocs.io/en/stable/)\n",
    "\n",
    "~~~bash\n",
    "pip install pillow\n",
    "~~~\n"
   ]
  },
  {
   "cell_type": "code",
   "execution_count": null,
   "id": "bd7d99cf",
   "metadata": {},
   "outputs": [],
   "source": [
    "import numpy as np\n",
    "from matplotlib import pyplot as plt\n",
    "import PIL.ImageOps\n",
    "from PIL import Image\n",
    "from mpl_toolkits.axes_grid1 import make_axes_locatable\n"
   ]
  },
  {
   "cell_type": "markdown",
   "id": "201722d7",
   "metadata": {},
   "source": [
    "## Helper code"
   ]
  },
  {
   "cell_type": "code",
   "execution_count": null,
   "id": "3530c1c4",
   "metadata": {},
   "outputs": [],
   "source": [
    "def pad_image(input_image, pad):\n",
    "    # pad image with mirrored values to avoid boundary effects and index errors\n",
    "    return np.pad(input_image, ((pad, pad), (pad, pad), (0, 0)), mode=\"reflect\")\n",
    "\n",
    "\n",
    "def print_info(arr):\n",
    "    print(f\"Got array of shape {arr.shape} {arr.dtype} bounds {np.min(arr)} {np.max(arr)}\")\n",
    "\n",
    "\n",
    "def load_image_as_numpy_array(input_file):\n",
    "    img = Image.open(input_file)\n",
    "    arr = np.array(img).astype(np.float32)\n",
    "    print_info(arr)\n",
    "    return arr\n",
    "\n",
    "\n",
    "def show_image(img):\n",
    "    img = np.round(img).astype(int)\n",
    "    plt.imshow(img)\n",
    "\n",
    "\n",
    "def add_colorbar(fig, fig_imshow, ax):\n",
    "    \"\"\"Add colorbar to a given figure\"\"\"\n",
    "    divider = make_axes_locatable(ax)\n",
    "    cax = divider.append_axes(\"right\", size=\"5%\", pad=0.05)\n",
    "    fig.colorbar(fig_imshow, cax=cax)\n"
   ]
  },
  {
   "cell_type": "markdown",
   "id": "de990307",
   "metadata": {},
   "source": [
    "## Load image"
   ]
  },
  {
   "cell_type": "code",
   "execution_count": null,
   "id": "cd3e54d0",
   "metadata": {},
   "outputs": [],
   "source": [
    "input_file = \"diffusion.png\"\n",
    "in_arr = load_image_as_numpy_array(input_file)\n",
    "arr = np.copy(in_arr)\n",
    "\n",
    "show_image(arr)\n"
   ]
  },
  {
   "cell_type": "markdown",
   "id": "2523c94c",
   "metadata": {},
   "source": [
    "## Homogeneous diffusion"
   ]
  },
  {
   "cell_type": "code",
   "execution_count": null,
   "id": "f8977a18",
   "metadata": {},
   "outputs": [],
   "source": [
    "def apply_homogeneous_diffusion_step(input_image, tau, h):\n",
    "    # pad image to avoid index errors\n",
    "    padded_image = pad_image(input_image, 1)\n",
    "\n",
    "    # START TODO #################\n",
    "    # apply the explicit finite difference scheme\n",
    "    # new_image = ...\n",
    "    raise NotImplementedError\n",
    "    # END TODO ###################\n",
    "    return new_image\n",
    "\n",
    "\n",
    "tau, h, n_steps = 0.1, 1, 10\n",
    "print(f\"Running homogeneous diffusion with hyperparameters \" f\"tau={tau} h={h} n_steps={n_steps}\")\n",
    "arr_hg = np.copy(in_arr)\n",
    "for n in range(10):\n",
    "    arr_hg = apply_homogeneous_diffusion_step(arr_hg, 0.1, 1)\n",
    "\n",
    "plt.figure(figsize=(16, 8))\n",
    "both = np.concatenate((in_arr, arr_hg), axis=1)\n",
    "show_image(both)\n"
   ]
  },
  {
   "cell_type": "markdown",
   "id": "62e7bb75",
   "metadata": {},
   "source": [
    "## Nonlinear diffusion"
   ]
  },
  {
   "cell_type": "code",
   "execution_count": null,
   "id": "c2d7b588",
   "metadata": {},
   "outputs": [],
   "source": [
    "def apply_nonlinear_diffusion_step(input_image, tau, lambd, debug=False):\n",
    "    # pad image to avoid index errors\n",
    "    padded_image = pad_image(input_image, 1)\n",
    "\n",
    "    # START TODO #################\n",
    "    # apply nonlinear isotropic diffusion with gaussian diffusivity\n",
    "    # 1. compute diffusivity\n",
    "    # diffu = ...\n",
    "    raise NotImplementedError\n",
    "    # END TODO ###################\n",
    "\n",
    "    if debug:\n",
    "        print(f\"Diffusivity:\")\n",
    "        print_info(diffu)\n",
    "        plt.imshow(diffu)\n",
    "        plt.show()\n",
    "\n",
    "    # pad diffusivity to avoid index errors\n",
    "    padded_diffu = pad_image(diffu, 1)\n",
    "\n",
    "    # 2. compute diffusivities between pixels\n",
    "    diff_x_plus_half = 0.5 * (padded_diffu[1:-1, 2:] + diffu)\n",
    "    diff_x_minus_half = 0.5 * (padded_diffu[1:-1, :-2] + diffu)\n",
    "    diff_y_plus_half = 0.5 * (padded_diffu[2:, 1:-1] + diffu)\n",
    "    diff_y_minus_half = 0.5 * (padded_diffu[:-2, 1:-1] + diffu)\n",
    "\n",
    "    # START TODO #################\n",
    "    # 3. implement the explicit scheme\n",
    "    # new_image = ...\n",
    "    raise NotImplementedError\n",
    "    # END TODO ###################\n",
    "\n",
    "    if debug:\n",
    "        print(f\"Difference in current step:\")\n",
    "        delta = np.abs(input_image - new_image)\n",
    "        print_info(delta)\n",
    "        fig, ax = plt.subplots()\n",
    "        fig_imshow = plt.imshow(delta.mean(-1))\n",
    "        add_colorbar(fig, fig_imshow, ax)\n",
    "        plt.show()\n",
    "\n",
    "        fig, ax = plt.subplots()\n",
    "        show_image(new_image)\n",
    "        plt.show()\n",
    "\n",
    "    return new_image\n",
    "\n",
    "\n",
    "arr = np.copy(in_arr)\n",
    "out_arr = apply_nonlinear_diffusion_step(arr, 0.1, 10, debug=True)\n"
   ]
  },
  {
   "cell_type": "code",
   "execution_count": null,
   "id": "0721029e",
   "metadata": {},
   "outputs": [],
   "source": [
    "def apply_nonlinear_diffusion(in_arr, tau, lambd, n_steps):\n",
    "    print(\n",
    "        f\"Running nonlinear diffusion with hyperparameters \"\n",
    "        f\"tau={tau} lambda={lambd} n_steps={n_steps}\"\n",
    "    )\n",
    "    arr_nid = np.copy(in_arr)\n",
    "    for n in range(n_steps):\n",
    "        arr_nid = apply_nonlinear_diffusion_step(arr_nid, tau, lambd)\n",
    "    plt.figure(figsize=(16, 8))\n",
    "    both = np.concatenate((in_arr, arr_nid), axis=1)\n",
    "    show_image(both)\n",
    "    plt.show()\n",
    "\n",
    "\n",
    "tau = 0.1\n",
    "lambd = 10\n",
    "T = 10\n",
    "n_steps = np.ceil(T / tau).astype(int)\n",
    "\n",
    "apply_nonlinear_diffusion(in_arr, tau, lambd, n_steps)\n"
   ]
  },
  {
   "cell_type": "code",
   "execution_count": null,
   "id": "cf48176d",
   "metadata": {},
   "outputs": [],
   "source": []
  }
 ],
 "metadata": {
  "kernelspec": {
   "display_name": "Python 3 (ipykernel)",
   "language": "python",
   "name": "python3"
  },
  "language_info": {
   "codemirror_mode": {
    "name": "ipython",
    "version": 3
   },
   "file_extension": ".py",
   "mimetype": "text/x-python",
   "name": "python",
   "nbconvert_exporter": "python",
   "pygments_lexer": "ipython3",
   "version": "3.9.18"
  }
 },
 "nbformat": 4,
 "nbformat_minor": 5
}